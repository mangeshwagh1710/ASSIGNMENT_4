{
 "cells": [
  {
   "cell_type": "code",
   "execution_count": 1,
   "id": "2cbe4c13",
   "metadata": {},
   "outputs": [
    {
     "name": "stdout",
     "output_type": "stream",
     "text": [
      "35\n"
     ]
    }
   ],
   "source": [
    "# Write a python progaram to create a lambda function that adds 25 to a given number passed in as an argument.\n",
    "\n",
    "\n",
    "r = lambda a:a+25\n",
    "print(r(10))\n",
    "r = lambda x,y:x*y\n",
    "\n"
   ]
  },
  {
   "cell_type": "code",
   "execution_count": 3,
   "id": "cd0969b1",
   "metadata": {},
   "outputs": [
    {
     "name": "stdout",
     "output_type": "stream",
     "text": [
      "Original list: [1, 2, 3, 4, 5, 6, 7]\n",
      "\n",
      " Triple of said list numbers:\n",
      "[3, 6, 9, 12, 15, 18, 21]\n"
     ]
    }
   ],
   "source": [
    "# Write a python program to triple all numbers of a given list of integers, Use python map.\n",
    "\n",
    "nums = [1,2,3,4,5,6,7]\n",
    "print(\"Original list:\",nums)\n",
    "result = map(lambda x:x+x+x,nums)\n",
    "print(\"\\n Triple of said list numbers:\")\n",
    "print(list(result))\n",
    "\n"
   ]
  },
  {
   "cell_type": "code",
   "execution_count": 4,
   "id": "1cc576af",
   "metadata": {},
   "outputs": [
    {
     "name": "stdout",
     "output_type": "stream",
     "text": [
      "Original List [4, 5, 2, 9]\n",
      "Square the elements of the list:\n",
      "[16, 25, 4, 81]\n"
     ]
    }
   ],
   "source": [
    "# Write a python program to square the elements of a list using map()function\n",
    "\n",
    "def square_num(n):\n",
    "    return n*n\n",
    "nums = [4,5,2,9]\n",
    "print(\"Original List\",nums)\n",
    "result = map(square_num, nums)\n",
    "print(\"Square the elements of the list:\")\n",
    "print(list(result))\n",
    "\n",
    "\n"
   ]
  },
  {
   "cell_type": "code",
   "execution_count": null,
   "id": "e78bd433",
   "metadata": {},
   "outputs": [],
   "source": []
  }
 ],
 "metadata": {
  "kernelspec": {
   "display_name": "Python 3 (ipykernel)",
   "language": "python",
   "name": "python3"
  },
  "language_info": {
   "codemirror_mode": {
    "name": "ipython",
    "version": 3
   },
   "file_extension": ".py",
   "mimetype": "text/x-python",
   "name": "python",
   "nbconvert_exporter": "python",
   "pygments_lexer": "ipython3",
   "version": "3.9.13"
  }
 },
 "nbformat": 4,
 "nbformat_minor": 5
}
